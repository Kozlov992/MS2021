{
 "cells": [
  {
   "cell_type": "markdown",
   "metadata": {},
   "source": [
    "# Лабораторная 2"
   ]
  },
  {
   "cell_type": "code",
   "execution_count": 42,
   "metadata": {},
   "outputs": [],
   "source": [
    "from scipy.stats import norm, cauchy, laplace, poisson, uniform\n",
    "import numpy as np\n",
    "import csv"
   ]
  },
  {
   "cell_type": "markdown",
   "metadata": {},
   "source": [
    "Выборочное среднее $\\left(\\displaystyle\\overline{x}=\\frac{1}{n}\\sum_{i=1}^n x_i\\right)$:"
   ]
  },
  {
   "cell_type": "code",
   "execution_count": 10,
   "metadata": {},
   "outputs": [],
   "source": [
    "def sample_mean(sample):\n",
    "    return np.mean(sample)"
   ]
  },
  {
   "cell_type": "markdown",
   "metadata": {},
   "source": [
    " "
   ]
  },
  {
   "cell_type": "markdown",
   "metadata": {},
   "source": [
    "Выборочная медиана $\\left(\\displaystyle med\\,x = \\begin{cases}\n",
    "        \\displaystyle\\;\\;\\;\\;\\;x_{(l+1)}&\\text{при}\\;\\;n=2l+1\\\\\n",
    "        \\displaystyle\\frac{x_{(l)}+x_{(l+1)}}{2}&\\text{при}\\;\\;n=2l\n",
    "        \\end{cases}\\right)$:"
   ]
  },
  {
   "cell_type": "code",
   "execution_count": 11,
   "metadata": {},
   "outputs": [],
   "source": [
    "def sample_median(sample):\n",
    "    return np.median(sample)"
   ]
  },
  {
   "cell_type": "markdown",
   "metadata": {},
   "source": [
    " "
   ]
  },
  {
   "cell_type": "markdown",
   "metadata": {},
   "source": [
    "Полусумма экстремальных выборочных элементов $\\left(\\displaystyle z_R=\\frac{x_{(1)}+x_{(n)}}{2}\\right)$:"
   ]
  },
  {
   "cell_type": "code",
   "execution_count": 12,
   "metadata": {},
   "outputs": [],
   "source": [
    "def z_R(variational_series):\n",
    "    return (variational_series[0] + variational_series[variational_series.size - 1]) / 2"
   ]
  },
  {
   "cell_type": "markdown",
   "metadata": {},
   "source": [
    " "
   ]
  },
  {
   "cell_type": "markdown",
   "metadata": {},
   "source": [
    "Выборочный квартиль $z_p$ порядка $p$ $\\left(\\displaystyle z_p = \\begin{cases}\\label{pqv}\n",
    "        \\displaystyle\\;\\;x_{([np]+1)}&\\text{при}\\;\\;np\\;\\text{дробном,}\\\\\n",
    "        \\displaystyle\\;\\;\\;\\;\\;x_{(np)}&\\text{при}\\;\\;np\\;\\text{целом}\n",
    "        \\end{cases}\\right)$:"
   ]
  },
  {
   "cell_type": "code",
   "execution_count": 13,
   "metadata": {},
   "outputs": [],
   "source": [
    "def z_p(variational_series, p):\n",
    "    pn = p * variational_series.size\n",
    "    if (pn == int(pn)):\n",
    "        return variational_series[int(pn)]\n",
    "    return variational_series[int(pn) + 1]"
   ]
  },
  {
   "cell_type": "markdown",
   "metadata": {},
   "source": [
    " "
   ]
  },
  {
   "cell_type": "markdown",
   "metadata": {},
   "source": [
    "Полусумма квартилей $\\left(\\displaystyle z_Q=\\frac{z_{1/4}+z_{3/4}}{2}\\right)$:"
   ]
  },
  {
   "cell_type": "code",
   "execution_count": 14,
   "metadata": {},
   "outputs": [],
   "source": [
    "def z_Q(variational_series):\n",
    "    return (z_p(variational_series, 1/4) + z_p(variational_series, 3/4)) / 2"
   ]
  },
  {
   "cell_type": "markdown",
   "metadata": {},
   "source": [
    " "
   ]
  },
  {
   "cell_type": "markdown",
   "metadata": {},
   "source": [
    "Усечённое среднее $\\left(\\displaystyle z_{tr}=\\frac{1}{n-2r}\\sum_{i=r+1}^{n-r}x_{(i)},\\;\\;r\\approx\\frac{n}{4}\\right)$:"
   ]
  },
  {
   "cell_type": "code",
   "execution_count": 16,
   "metadata": {},
   "outputs": [],
   "source": [
    "def trim_mean(variational_series):\n",
    "    n = variational_series.size\n",
    "    r = int(n/4)\n",
    "    sum = 0.\n",
    "    for i in range(r + 1, n - r + 1):\n",
    "        sum += variational_series[i]\n",
    "    return sum / (n - 2*r)"
   ]
  },
  {
   "cell_type": "markdown",
   "metadata": {},
   "source": [
    " "
   ]
  },
  {
   "cell_type": "markdown",
   "metadata": {},
   "source": [
    "Выборочная дисперсия $\\left(\\displaystyle D=\\frac{1}{n}\\sum_{i=1}^n \\left(x_i-\\overline{x}\\right)^2\\right)$:"
   ]
  },
  {
   "cell_type": "code",
   "execution_count": 34,
   "metadata": {},
   "outputs": [],
   "source": [
    "def sample_variance(sample):\n",
    "    return np.std(sample)**2"
   ]
  },
  {
   "cell_type": "markdown",
   "metadata": {},
   "source": [
    " "
   ]
  },
  {
   "cell_type": "code",
   "execution_count": 37,
   "metadata": {},
   "outputs": [],
   "source": [
    "number_of_experiments = 1000\n",
    "units = [10, 100, 1000]"
   ]
  },
  {
   "cell_type": "markdown",
   "metadata": {},
   "source": [
    "Нормальное распределение $\\left(f(x)=\\displaystyle\\frac{e^{-x^2/2}}{\\sqrt{2\\pi}}\\right)$:"
   ]
  },
  {
   "cell_type": "code",
   "execution_count": 67,
   "metadata": {
    "scrolled": true
   },
   "outputs": [
    {
     "name": "stdout",
     "output_type": "stream",
     "text": [
      "[0.001643, -0.001715, 0.011264, 0.307549, 0.274457]\n",
      "[0.105575, 0.146178, 0.174175, 0.134176, 0.123485]\n",
      "\n",
      "\n",
      "[-0.002837, -0.006377, 0.010113, 0.011054, 0.021504]\n",
      "[0.010176, 0.01538, 0.09277, 0.013052, 0.012069]\n",
      "\n",
      "\n",
      "[-0.002345, -0.001516, 0.003679, -0.001195, 0.000629]\n",
      "[0.001105, 0.001723, 0.063631, 0.001349, 0.001325]\n",
      "\n",
      "\n"
     ]
    }
   ],
   "source": [
    "E = []\n",
    "D = []\n",
    "for u_num in units:\n",
    "    samples_means = []\n",
    "    samples_medians = []\n",
    "    samples_z_Rs = []\n",
    "    samples_z_Qs = []\n",
    "    samples_z_trs = []\n",
    "    for i in range(number_of_experiments):\n",
    "        sample = norm.rvs(scale=1, loc=0, size= u_num)\n",
    "        samples_means.append(sample_mean(sample))\n",
    "        samples_medians.append(sample_median(sample))\n",
    "        sample.sort()\n",
    "        samples_z_Rs.append(z_R(sample))\n",
    "        samples_z_Qs.append(z_Q(sample))\n",
    "        samples_z_trs.append(trim_mean(sample))\n",
    "    val_lists = [samples_means, samples_medians, samples_z_Rs, samples_z_Qs, samples_z_trs]\n",
    "    E_s = [round(sample_mean(val_list), 6) for val_list in val_lists]\n",
    "    D_s = [round(sample_variance(val_list), 6) for val_list in val_lists]\n",
    "    print(E_s)\n",
    "    print(D_s)\n",
    "    print('\\n')\n",
    "    E.append(E_s)\n",
    "    D.append(D_s)\n",
    "    \n",
    "#Создание таблицы \n",
    "with open('normalChs.tex','w', newline = '') as f:\n",
    "    writer = csv.writer(f, delimiter = '&')\n",
    "    filler_row = [\" \" for j in range(5)]\n",
    "    filler_row.append(r\" \\\\\")\n",
    "    hline = \"\\hline\\n\"\n",
    "    for i in range(3):\n",
    "        row_1 = [\" \" for j in range(4)]\n",
    "        row_1.append(r\" \\\\\")\n",
    "        row_1.insert(0, \"normal $n$ = \" + str(units[i]))\n",
    "        writer.writerow(row_1)\n",
    "        if (i == 0):\n",
    "            row_2 = [\" \", \"$\\overline{x}\\;\\eqref{mean}$\", \"$med\\;x\\;\\eqref{med}$\", \"$z_R\\;\\eqref{exhfsum}$\",\n",
    "                \"$z_Q\\;\\eqref{hfsum}$\", r\"$z_{tr}\\;\\eqref{trmean}$\\\\\"]\n",
    "        else:\n",
    "            row_2 = [\" \", \"$\\overline{x}$\", \"$med\\;x$\", \"$z_R$\",\n",
    "                \"$z_Q$\", r\"$z_{tr}$\\\\\"]\n",
    "        f.write(hline)    \n",
    "        writer.writerow(row_2)\n",
    "        E[i][len(E[i]) - 1] = str(E[i][len(E[i]) - 1]) + r\"\\\\\"\n",
    "        if (i == 0):\n",
    "            str_to_ins = \"$E(z)\\;\\eqref{mean_formula}$\"\n",
    "        else:\n",
    "            str_to_ins = \"$E(z)$\"\n",
    "        E[i].insert(0, str_to_ins)\n",
    "        f.write(hline)\n",
    "        writer.writerow(E[i])\n",
    "        if (i == 0):\n",
    "            str_to_ins = \"$D(z)\\;\\eqref{variance_formula}$\"\n",
    "        else:\n",
    "            str_to_ins = \"$D(z)$\"\n",
    "        D[i][len(D[i]) - 1] = str(D[i][len(D[i]) - 1]) + r\"\\\\\"\n",
    "        D[i].insert(0, str_to_ins)\n",
    "        f.write(hline)\n",
    "        writer.writerow(D[i])\n",
    "        if (i != 2):\n",
    "            f.write(hline)\n",
    "            writer.writerow(filler_row)\n",
    "        f.write(hline)"
   ]
  },
  {
   "cell_type": "markdown",
   "metadata": {},
   "source": [
    " "
   ]
  },
  {
   "cell_type": "markdown",
   "metadata": {},
   "source": [
    "Функция создания таблиц:"
   ]
  },
  {
   "cell_type": "code",
   "execution_count": 68,
   "metadata": {},
   "outputs": [],
   "source": [
    "def create_table(E, D, distribution_name):\n",
    "    with open(distribution_name + 'Chs.tex','w', newline = '') as f:\n",
    "        writer = csv.writer(f, delimiter = '&')\n",
    "        filler_row = [\" \" for j in range(5)]\n",
    "        filler_row.append(r\" \\\\\")\n",
    "        hline = \"\\hline\\n\"\n",
    "        for i in range(3):\n",
    "            row_1 = [\" \" for j in range(4)]\n",
    "            row_1.append(r\" \\\\\")\n",
    "            row_1.insert(0, distribution_name + \" $n$ = \" + str(units[i]))\n",
    "            writer.writerow(row_1)\n",
    "            row_2 = [\" \", \"$\\overline{x}$\", \"$med\\;x$\", \"$z_R$\",\n",
    "                    \"$z_Q$\", r\"$z_{tr}$\\\\\"]\n",
    "            f.write(hline)    \n",
    "            writer.writerow(row_2)\n",
    "            E[i][len(E[i]) - 1] = str(E[i][len(E[i]) - 1]) + r\"\\\\\"\n",
    "            str_to_ins = \"$E(z)$\"\n",
    "            E[i].insert(0, str_to_ins)\n",
    "            f.write(hline)\n",
    "            writer.writerow(E[i])\n",
    "            str_to_ins = \"$D(z)$\"\n",
    "            D[i][len(D[i]) - 1] = str(D[i][len(D[i]) - 1]) + r\"\\\\\"\n",
    "            D[i].insert(0, str_to_ins)\n",
    "            f.write(hline)\n",
    "            writer.writerow(D[i])\n",
    "            if (i != 2):\n",
    "                f.write(hline)\n",
    "                writer.writerow(filler_row)\n",
    "            f.write(hline)"
   ]
  },
  {
   "cell_type": "markdown",
   "metadata": {},
   "source": [
    " "
   ]
  },
  {
   "cell_type": "markdown",
   "metadata": {},
   "source": [
    "Распределение Коши $\\left(f(x)=\\displaystyle\\frac{1}{\\pi}\\frac{1}{x^2+1}\\right)$:"
   ]
  },
  {
   "cell_type": "code",
   "execution_count": 69,
   "metadata": {},
   "outputs": [
    {
     "name": "stdout",
     "output_type": "stream",
     "text": [
      "[4.032778, 0.024677, 19.86405, 1.339201, 0.776474]\n",
      "[10523.431164, 0.337081, 262430.774818, 15.269762, 2.615929]\n",
      "\n",
      "\n",
      "[-2.440452, -0.00389, -120.917099, 0.037722, 0.04242]\n",
      "[8567.668789, 0.024353, 21296287.803965, 0.049615, 0.02486]\n",
      "\n",
      "\n",
      "[-1.639749, -0.001563, -846.555835, 0.000551, 0.001988]\n",
      "[952.311641, 0.002561, 235973354.703035, 0.005211, 0.002642]\n",
      "\n",
      "\n"
     ]
    }
   ],
   "source": [
    "E = []\n",
    "D = []\n",
    "for u_num in units:\n",
    "    samples_means = []\n",
    "    samples_medians = []\n",
    "    samples_z_Rs = []\n",
    "    samples_z_Qs = []\n",
    "    samples_z_trs = []\n",
    "    for i in range(number_of_experiments):\n",
    "        sample = cauchy.rvs(scale=1, loc=0, size=u_num)\n",
    "        samples_means.append(sample_mean(sample))\n",
    "        samples_medians.append(sample_median(sample))\n",
    "        sample.sort()\n",
    "        samples_z_Rs.append(z_R(sample))\n",
    "        samples_z_Qs.append(z_Q(sample))\n",
    "        samples_z_trs.append(trim_mean(sample))\n",
    "    val_lists = [samples_means, samples_medians, samples_z_Rs, samples_z_Qs, samples_z_trs]\n",
    "    E_s = [round(sample_mean(val_list), 6) for val_list in val_lists]\n",
    "    D_s = [round(sample_variance(val_list), 6) for val_list in val_lists]\n",
    "    print(E_s)\n",
    "    print(D_s)\n",
    "    print('\\n')\n",
    "    E.append(E_s)\n",
    "    D.append(D_s)\n",
    "create_table(E, D, 'cauchy')"
   ]
  },
  {
   "cell_type": "markdown",
   "metadata": {},
   "source": [
    " "
   ]
  },
  {
   "cell_type": "markdown",
   "metadata": {},
   "source": [
    "Распределение Лапласа $\\left(f(x)=\\displaystyle\\frac{1}{\\sqrt{2}}e^{-\\sqrt{2}|x|}\\right)$:"
   ]
  },
  {
   "cell_type": "code",
   "execution_count": 70,
   "metadata": {},
   "outputs": [
    {
     "name": "stdout",
     "output_type": "stream",
     "text": [
      "[-0.001668, -0.004131, 0.010891, 0.289294, 0.226136]\n",
      "[0.101372, 0.073895, 0.401826, 0.123031, 0.085186]\n",
      "\n",
      "\n",
      "[0.001346, -0.001301, 0.028134, 0.013016, 0.019805]\n",
      "[0.010855, 0.005921, 0.421155, 0.01084, 0.006523]\n",
      "\n",
      "\n",
      "[-0.000328, -0.000592, -0.007745, 0.00162, 0.001773]\n",
      "[0.00091, 0.000489, 0.391542, 0.0009, 0.000573]\n",
      "\n",
      "\n"
     ]
    }
   ],
   "source": [
    "E = []\n",
    "D = []\n",
    "for u_num in units:\n",
    "    samples_means = []\n",
    "    samples_medians = []\n",
    "    samples_z_Rs = []\n",
    "    samples_z_Qs = []\n",
    "    samples_z_trs = []\n",
    "    for i in range(number_of_experiments):\n",
    "        sample = laplace.rvs(scale=2 ** (-0.5), loc=0, size=u_num)\n",
    "        samples_means.append(sample_mean(sample))\n",
    "        samples_medians.append(sample_median(sample))\n",
    "        sample.sort()\n",
    "        samples_z_Rs.append(z_R(sample))\n",
    "        samples_z_Qs.append(z_Q(sample))\n",
    "        samples_z_trs.append(trim_mean(sample))\n",
    "    val_lists = [samples_means, samples_medians, samples_z_Rs, samples_z_Qs, samples_z_trs]\n",
    "    E_s = [round(sample_mean(val_list), 6) for val_list in val_lists]\n",
    "    D_s = [round(sample_variance(val_list), 6) for val_list in val_lists]\n",
    "    print(E_s)\n",
    "    print(D_s)\n",
    "    print('\\n')\n",
    "    E.append(E_s)\n",
    "    D.append(D_s)\n",
    "create_table(E, D, 'laplace')"
   ]
  },
  {
   "cell_type": "markdown",
   "metadata": {},
   "source": [
    " "
   ]
  },
  {
   "cell_type": "markdown",
   "metadata": {},
   "source": [
    "Распределение Пуассона $\\left(p(k)=\\displaystyle\\frac{10^k}{k!}e^{-10}\\right)$:"
   ]
  },
  {
   "cell_type": "code",
   "execution_count": 71,
   "metadata": {},
   "outputs": [
    {
     "name": "stdout",
     "output_type": "stream",
     "text": [
      "[10.0383, 9.8805, 10.359, 10.9795, 10.811167]\n",
      "[0.952043, 1.31197, 1.984619, 1.36983, 1.170536]\n",
      "\n",
      "\n",
      "[10.00143, 9.848, 10.9655, 9.9655, 9.94214]\n",
      "[0.098683, 0.205396, 0.97106, 0.15006, 0.117383]\n",
      "\n",
      "\n",
      "[9.997855, 9.994, 11.6445, 9.9935, 9.864184]\n",
      "[0.010238, 0.005464, 0.65537, 0.003208, 0.011762]\n",
      "\n",
      "\n"
     ]
    }
   ],
   "source": [
    "E = []\n",
    "D = []\n",
    "for u_num in units:\n",
    "    samples_means = []\n",
    "    samples_medians = []\n",
    "    samples_z_Rs = []\n",
    "    samples_z_Qs = []\n",
    "    samples_z_trs = []\n",
    "    for i in range(number_of_experiments):\n",
    "        sample = poisson.rvs(10, size=u_num)\n",
    "        samples_means.append(sample_mean(sample))\n",
    "        samples_medians.append(sample_median(sample))\n",
    "        sample.sort()\n",
    "        samples_z_Rs.append(z_R(sample))\n",
    "        samples_z_Qs.append(z_Q(sample))\n",
    "        samples_z_trs.append(trim_mean(sample))\n",
    "    val_lists = [samples_means, samples_medians, samples_z_Rs, samples_z_Qs, samples_z_trs]\n",
    "    E_s = [round(sample_mean(val_list), 6) for val_list in val_lists]\n",
    "    D_s = [round(sample_variance(val_list), 6) for val_list in val_lists]\n",
    "    print(E_s)\n",
    "    print(D_s)\n",
    "    print('\\n')\n",
    "    E.append(E_s)\n",
    "    D.append(D_s)\n",
    "create_table(E, D, 'poisson')"
   ]
  },
  {
   "cell_type": "markdown",
   "metadata": {},
   "source": [
    " "
   ]
  },
  {
   "cell_type": "markdown",
   "metadata": {},
   "source": [
    "Равномерное распределение $\\left(f(x)=\\begin{cases}\n",
    "        \\displaystyle\\frac{1}{2\\sqrt{3}}&\\text{при}\\;\\;|x|\\:\\leq\\sqrt{3}\\\\\n",
    "        \\;\\;\\;0&\\text{при}\\;\\;|x|\\:>\\sqrt{3}\\\\\n",
    "        \\end{cases}\\right)$:"
   ]
  },
  {
   "cell_type": "code",
   "execution_count": 73,
   "metadata": {},
   "outputs": [
    {
     "name": "stdout",
     "output_type": "stream",
     "text": [
      "[0.010428, 0.007235, 0.008858, 0.333875, 0.326122]\n",
      "[0.097559, 0.218496, 0.04188, 0.126666, 0.148893]\n",
      "\n",
      "\n",
      "[-0.008995, -0.014935, -0.000303, 0.007003, 0.021455]\n",
      "[0.009266, 0.026934, 0.000616, 0.014319, 0.018513]\n",
      "\n",
      "\n",
      "[-0.000227, -0.000275, -3.3e-05, 0.001693, 0.003161]\n",
      "[0.001045, 0.003089, 6e-06, 0.001582, 0.002111]\n",
      "\n",
      "\n"
     ]
    }
   ],
   "source": [
    "E = []\n",
    "D = []\n",
    "for u_num in units:\n",
    "    samples_means = []\n",
    "    samples_medians = []\n",
    "    samples_z_Rs = []\n",
    "    samples_z_Qs = []\n",
    "    samples_z_trs = []\n",
    "    for i in range(number_of_experiments):\n",
    "        sample = uniform.rvs(loc=-3**0.5, scale=2*3**0.5,size=u_num)\n",
    "        samples_means.append(sample_mean(sample))\n",
    "        samples_medians.append(sample_median(sample))\n",
    "        sample.sort()\n",
    "        samples_z_Rs.append(z_R(sample))\n",
    "        samples_z_Qs.append(z_Q(sample))\n",
    "        samples_z_trs.append(trim_mean(sample))\n",
    "    val_lists = [samples_means, samples_medians, samples_z_Rs, samples_z_Qs, samples_z_trs]\n",
    "    E_s = [round(sample_mean(val_list), 6) for val_list in val_lists]\n",
    "    D_s = [round(sample_variance(val_list), 6) for val_list in val_lists]\n",
    "    print(E_s)\n",
    "    print(D_s)\n",
    "    print('\\n')\n",
    "    E.append(E_s)\n",
    "    D.append(D_s)\n",
    "create_table(E, D, 'uniform')"
   ]
  }
 ],
 "metadata": {
  "kernelspec": {
   "display_name": "Python 3",
   "language": "python",
   "name": "python3"
  },
  "language_info": {
   "codemirror_mode": {
    "name": "ipython",
    "version": 3
   },
   "file_extension": ".py",
   "mimetype": "text/x-python",
   "name": "python",
   "nbconvert_exporter": "python",
   "pygments_lexer": "ipython3",
   "version": "3.8.5"
  }
 },
 "nbformat": 4,
 "nbformat_minor": 4
}
